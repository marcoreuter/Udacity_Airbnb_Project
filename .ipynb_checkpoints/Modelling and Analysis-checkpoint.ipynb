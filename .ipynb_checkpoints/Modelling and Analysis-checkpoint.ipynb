{
 "cells": [
  {
   "cell_type": "markdown",
   "id": "92aac85d",
   "metadata": {},
   "source": [
    "# Analysis of Boston/SeattleAirbnb Data\n",
    "\n",
    "This project investigates Airbnb Data from Boston and Seattle.  \n",
    "\n",
    "## Main Questions of the Project:\n",
    " \n",
    "1) Which factors correlate with a high rental price for an object? How well can they predict the rental price?  \n",
    "2) Can the factors that work in Boston predict prices in Seattle? Can the factors that work in Seattle predict prices in Boston?  \n",
    "3) How well do the review scores match the NLTK language processing scores?  \n",
    "\n",
    "## This Notebook: Modelling and Analysis"
   ]
  },
  {
   "cell_type": "markdown",
   "id": "fbf79ccc",
   "metadata": {},
   "source": [
    "First I start off by loading the necessary data and packages"
   ]
  },
  {
   "cell_type": "code",
   "execution_count": 1,
   "id": "21a1e839",
   "metadata": {},
   "outputs": [],
   "source": [
    "# Load packages\n",
    "import numpy as np\n",
    "import pandas as pd\n",
    "import matplotlib.pyplot as plt\n",
    "from sklearn.linear_model import Lasso, LinearRegression\n",
    "from sklearn.model_selection import train_test_split\n",
    "from sklearn.metrics import r2_score, mean_squared_error\n",
    "import seaborn as sns\n",
    "import pyarrow\n",
    "from regressors import stats\n",
    "\n",
    "%matplotlib inline\n",
    "\n",
    "# Load in the Data from the cleaned parquets\n",
    "boston_calendar = pd.read_parquet('./boston_calendar_cleaned')\n",
    "boston_listings = pd.read_parquet('./boston_listings_cleaned')\n",
    "boston_reviews = pd.read_parquet('./boston_reviews_cleaned')\n",
    "seattle_calendar = pd.read_parquet('./seattle_calendar_cleaned')\n",
    "seattle_listings = pd.read_parquet('./seattle_listings_cleaned')\n",
    "seattle_reviews = pd.read_parquet('./seattle_reviews_cleaned')"
   ]
  },
  {
   "cell_type": "markdown",
   "id": "33658fc9",
   "metadata": {},
   "source": [
    "## Question 1: Which factors correlate with a high rental price for an object? How well can they predict the rental price?   \n",
    "To address this question, I use the listings data together with the reviews that have been analyzed using the NLTK package. The data lacks a bit of documentation, whether the final price is equal to price + cleaning charge or if the cleaning charge is already included in the price. I will assume that the final price, that a customer pays is equal to price + cleaning charge.  \n",
    "\n",
    "To find the factors that correlate most closely with the rental price of an object, I will use the LASSO technique (elastic net with L1 norm only). This will allow me to employ a data driven approach the reduce the number of possible factors from 69 to a more managable number.\n"
   ]
  },
  {
   "cell_type": "code",
   "execution_count": 2,
   "id": "e26d6835",
   "metadata": {},
   "outputs": [],
   "source": [
    "# Functions to run the necessary analysis for question 1 on the boston and seattle data sets\n",
    "\n",
    "def data_prep(listings_clean,reviewscores_clean):\n",
    "    # Drop the id of the Airbnb for purpose of regression\n",
    "    listings_use=listings_clean.drop(['id'],axis=1)\n",
    "    # Define the final price as price + cleaning_fee\n",
    "    final_price = listings_clean.price+listings_clean.cleaning_fee\n",
    "    # Drop the price and cleaning fee columns\n",
    "    listings_use=listings_clean.drop(['price','cleaning_fee'],axis=1)\n",
    "    # Add review scores from language processing\n",
    "    avg_scores=reviewscores_clean.groupby('listing_id').mean()\n",
    "    listings_use = listings_use.merge(avg_scores, left_on='id',right_on='listing_id',how='left')\n",
    "    # Fill in NaN's from language processing with averages\n",
    "    listings_use.isna().sum()\n",
    "    fill_mean = lambda col: col.fillna(col.mean())\n",
    "    listings_use=listings_use.apply(fill_mean, axis=0)\n",
    "    # Define X and y\n",
    "    y=final_price\n",
    "    X=listings_use\n",
    "    return X,y\n",
    "\n",
    "def question1_analysis(X,y):\n",
    "    # Split data set into test and train\n",
    "    X_train, X_test, y_train, y_test = train_test_split(X, y, test_size = .30, random_state=42)\n",
    "    # Fit the model\n",
    "    lasso_model = Lasso(normalize=True)\n",
    "    lasso_model.fit(X_train,y_train)\n",
    "    # Get model predictions\n",
    "    y_train_preds = lasso_model.predict(X_train)\n",
    "    y_test_preds = lasso_model.predict(X_test) \n",
    "    #Obtain an rsquared value for both the training and test data\n",
    "    train_score=r2_score(y_train, y_train_preds)\n",
    "    test_score=r2_score(y_test, y_test_preds)\n",
    "    relevant_factors = X.columns[abs(lasso_model.coef_)>0]\n",
    "    return train_score, test_score, relevant_factors, lasso_model"
   ]
  },
  {
   "cell_type": "code",
   "execution_count": 3,
   "id": "994553d3",
   "metadata": {},
   "outputs": [
    {
     "name": "stdout",
     "output_type": "stream",
     "text": [
      "Boston Train Score: 0.23 Boston Test Score: 0.18\n",
      "Most important factors for price prediction: ['accommodates' 'room_type_Private room']\n"
     ]
    }
   ],
   "source": [
    "# Run the regression model for the boston dataset\n",
    "X_boston,y_boston = data_prep(boston_listings,boston_reviews)\n",
    "boston_train_score, boston_test_score, boston_model_coefs, boston_model = question1_analysis(X_boston,y_boston)\n",
    "# Results print('{:.2f}'.format(5.39120))\n",
    "print('Boston Train Score:', '{:.2f}'.format(boston_train_score), 'Boston Test Score:', '{:.2f}'.format(boston_test_score))\n",
    "print('Most important factors for price prediction:', boston_model_coefs.values)"
   ]
  },
  {
   "cell_type": "code",
   "execution_count": 4,
   "id": "b9483a2e",
   "metadata": {
    "scrolled": true
   },
   "outputs": [
    {
     "name": "stdout",
     "output_type": "stream",
     "text": [
      "Seattle Train Score: 0.34 Seattle Test Score: 0.36\n",
      "Most important factors for price prediction: ['accommodates' 'bedrooms']\n"
     ]
    }
   ],
   "source": [
    "# Run the regression model for the seattle dataset\n",
    "X_seattle,y_seattle = data_prep(seattle_listings,seattle_reviews)\n",
    "seattle_train_score, seattle_test_score, seattle_model_coefs, seattle_model = question1_analysis(X_seattle,y_seattle)\n",
    "# Results\n",
    "print('Seattle Train Score:', '{:.2f}'.format(seattle_train_score), 'Seattle Test Score:', '{:.2f}'.format(seattle_test_score))\n",
    "print('Most important factors for price prediction:', seattle_model_coefs.values)"
   ]
  },
  {
   "cell_type": "markdown",
   "id": "2a4dab6f",
   "metadata": {},
   "source": [
    "In Boston the LASSO model has chosen 'accomodates', i.e. how many people an appartment can accomodate, and 'room_type_Private room', i.e. whether or not a room is a private room as the two most important factors to predict the price of an Airbnb listing.  \n",
    "\n",
    "In Seattle the LASSO model has chosen 'accomodates', i.e. how many people an appartmante can accomodate, and 'bedrooms', i.e. how many bedrooms an appartment has as the two most important factors to predict the price of an Airbnb listing.  \n",
    "\n",
    "We can see that the models are still having a hard time to predict the prices. The training r2score in Boston is 0.23, while the testing r2score is 0.18. In Seattle the training r2score is 0.34 while the testing r2score is 0.36.  "
   ]
  },
  {
   "cell_type": "markdown",
   "id": "667cf6c8",
   "metadata": {},
   "source": [
    "# Question 2: Can the factors that work in Boston predict prices in Seattle? Can the factors that work in Seattle predict Boston?"
   ]
  },
  {
   "cell_type": "code",
   "execution_count": 5,
   "id": "5319fc56",
   "metadata": {
    "scrolled": true
   },
   "outputs": [
    {
     "name": "stdout",
     "output_type": "stream",
     "text": [
      "Boston predicting Seattle r2score: 0.16\n"
     ]
    }
   ],
   "source": [
    "# Using the boston model to predict for seattle\n",
    "boston_model_rel_coefs = boston_model.coef_[abs(boston_model.coef_)>0]\n",
    "boston_predict_seattle = boston_model_rel_coefs[0]*X_seattle.accommodates+ boston_model_rel_coefs[1]*X_seattle['room_type_Private room']+ boston_model.intercept_\n",
    "test_score_bPs = r2_score(y_seattle,boston_predict_seattle)\n",
    "print('Boston predicting Seattle r2score:', '{:.2f}'.format(test_score_bPs))"
   ]
  },
  {
   "cell_type": "code",
   "execution_count": 6,
   "id": "a1ae0894",
   "metadata": {},
   "outputs": [
    {
     "name": "stdout",
     "output_type": "stream",
     "text": [
      "Seattle predicting Boston r2score: 0.06\n"
     ]
    }
   ],
   "source": [
    "# Using the Seattle model to predict for Boston\n",
    "seattle_model_rel_coefs = seattle_model.coef_[abs(seattle_model.coef_)>0]\n",
    "seattle_predict_boston = seattle_model_rel_coefs[0]*X_boston.accommodates+ seattle_model_rel_coefs[1]*X_boston['bedrooms']+ seattle_model.intercept_\n",
    "test_score_sPb = r2_score(y_boston,seattle_predict_boston)\n",
    "print('Seattle predicting Boston r2score:', '{:.2f}'.format(test_score_sPb))"
   ]
  },
  {
   "cell_type": "markdown",
   "id": "5d3f1d67",
   "metadata": {},
   "source": [
    "In the first question we had seen that the models both picked up on the number of people an Airbnb can accommodate as an important factor to predict the price. When using the Boston model to predict prices in Seattle, the r2score is 0.16, compared to a r2score of 0.36 that the Seattle model scores in predicting its own prices. This suggests that the Boston and Seattle market are still quite different.  \n",
    "\n",
    "Similarly, when using the Seattle model to predict the Boston market the r2score is only 0.06, compared to a r2score of 0.18 that the Boston model offers in predicting its own prices. This strengthens the suspicion that the Boston and Seattle markets are quite different."
   ]
  },
  {
   "cell_type": "markdown",
   "id": "9bf33190",
   "metadata": {},
   "source": [
    "## Question 3: How well do the review scores match the NLTK language processing scores?"
   ]
  },
  {
   "cell_type": "code",
   "execution_count": 16,
   "id": "c0ccd86f",
   "metadata": {
    "scrolled": true
   },
   "outputs": [
    {
     "name": "stdout",
     "output_type": "stream",
     "text": [
      "Residuals:\n",
      "     Min      1Q  Median     3Q     Max\n",
      "-27.9744 -4.2947 -1.5206 3.1544 58.3024\n",
      "\n",
      "\n",
      "Coefficients:\n",
      "             Estimate  Std. Error   t value  p value\n",
      "_intercept  76.164449    0.495886  153.5928      0.0\n",
      "compound    20.458740    0.699826   29.2340      0.0\n",
      "---\n",
      "R-squared:  0.23682,    Adjusted R-squared:  0.23643\n",
      "F-statistic: 613.78 on 1 features\n",
      "Boston\n",
      "Train Score Review Scores on NLTK Compound: 0.24 Test Score Review Scores on NLTK Compound: 0.14\n"
     ]
    },
    {
     "data": {
      "image/png": "[encoded data removed]",
      "text/plain": [
       "<Figure size 432x288 with 1 Axes>"
      ]
     },
     "execution_count": 16,
     "metadata": {},
     "output_type": "execute_result"
    }
   ],
   "source": [
    "# Function to prepare the data and run a simple OLS regression on the review scores vs the compound scores of NLTK\n",
    "def review_score_regression(listings,reviews):\n",
    "    # Select the review scores and the compound rating of the written reviews from the data\n",
    "    scores_only = listings[['id','review_scores_rating']]\n",
    "    avg_compound = reviews.groupby('listing_id').compound.mean()\n",
    "    scores_merged = scores_only.merge(avg_compound, left_on='id',right_on='listing_id',how='left')\n",
    "    # Drop the places that do not have a written review\n",
    "    scores_merged.dropna(inplace=True)\n",
    "    # Define X and y of the regression\n",
    "    X_scores = scores_merged['compound'].values.reshape(-1,1)\n",
    "    y_scores = scores_merged['review_scores_rating'].values\n",
    "    # Split data set into test and train\n",
    "    X_scores_train, X_scores_test, y_scores_train, y_scores_test = train_test_split(X_scores, y_scores, test_size = .30, random_state=42)\n",
    "    scores_analysis = LinearRegression(normalize=True)\n",
    "    scores_analysis.fit(X_scores_train,y_scores_train)\n",
    "    # Get model predictions\n",
    "    y_train_preds = scores_analysis.predict(X_scores_train)\n",
    "    y_test_preds = scores_analysis.predict(X_scores_test) \n",
    "    #Obtain an rsquared value for both the training and test data\n",
    "    train_score=r2_score(y_scores_train, y_train_preds)\n",
    "    test_score=r2_score(y_scores_test, y_test_preds)\n",
    "    # Provide a scatter plot of X and y\n",
    "    plot = plt.figure()\n",
    "    plt.scatter(x=X_scores, y=y_scores);\n",
    "    plt.plot(X_scores_train,y_train_preds, color='r')\n",
    "    plt.close()\n",
    "    # calculate p value of the coefficient\n",
    "    pvals = stats.summary(scores_analysis, X_scores_train, y_scores_train,['compound']);\n",
    "    return train_score, test_score, plot, pvals\n",
    "\n",
    "# Run the analysis for boston\n",
    "train_score, test_score , boston_plot, boston_pvals= review_score_regression(boston_listings,boston_reviews)\n",
    "# Print the results\n",
    "print('Boston')\n",
    "print('Train Score Review Scores on NLTK Compound:' ,'{:.2f}'.format(train_score),'Test Score Review Scores on NLTK Compound:' ,'{:.2f}'.format(test_score))\n",
    "boston_plot\n"
   ]
  },
  {
   "cell_type": "code",
   "execution_count": 17,
   "id": "79f69a63",
   "metadata": {},
   "outputs": [
    {
     "name": "stdout",
     "output_type": "stream",
     "text": [
      "Residuals:\n",
      "     Min     1Q  Median     3Q    Max\n",
      "-29.4427 -3.447 -1.2103 1.8101 56.905\n",
      "\n",
      "\n",
      "Coefficients:\n",
      "             Estimate  Std. Error   t value  p value\n",
      "_intercept  77.260637     0.59244  130.4109      0.0\n",
      "compound    19.820765     0.73592   26.9333      0.0\n",
      "---\n",
      "R-squared:  0.17021,    Adjusted R-squared:  0.16983\n",
      "F-statistic: 457.62 on 1 features\n",
      "Seattle\n",
      "Train Score Review Scores on NLTK Compound: 0.17 Test Score Review Scores on NLTK Compound: 0.07\n"
     ]
    },
    {
     "data": {
      "image/png": "[encoded data removed]",
      "text/plain": [
       "<Figure size 432x288 with 1 Axes>"
      ]
     },
     "execution_count": 17,
     "metadata": {},
     "output_type": "execute_result"
    }
   ],
   "source": [
    "# Run the analysis for seattle\n",
    "train_score, test_score , seattle_plot, seattle_pvals= review_score_regression(seattle_listings,seattle_reviews)\n",
    "# Print the results\n",
    "print('Seattle')\n",
    "print('Train Score Review Scores on NLTK Compound:' ,'{:.2f}'.format(train_score),'Test Score Review Scores on NLTK Compound:' ,'{:.2f}'.format(test_score))\n",
    "seattle_plot"
   ]
  },
  {
   "cell_type": "markdown",
   "id": "fa9ae928",
   "metadata": {},
   "source": [
    "The Boston r2score on the test data is only 0.14, the Seattle r2score on the test data is only 0.07. Therefore the NLTK compound score does not predict the review scores rating of the listings particularly well. However, in both regressions the p-value is very small. Therefore the relationship between the NLTK score and the rating of an Airbnb is highly significant.\n",
    "\n",
    "The low predictive power stems most likely from the fact that one explanatory variable simply does not offer enough variation to predict the ratings scores"
   ]
  }
 ],
 "metadata": {
  "kernelspec": {
   "display_name": "Python 3",
   "language": "python",
   "name": "python3"
  },
  "language_info": {
   "codemirror_mode": {
    "name": "ipython",
    "version": 3
   },
   "file_extension": ".py",
   "mimetype": "text/x-python",
   "name": "python",
   "nbconvert_exporter": "python",
   "pygments_lexer": "ipython3",
   "version": "3.8.8"
  }
 },
 "nbformat": 4,
 "nbformat_minor": 5
}
