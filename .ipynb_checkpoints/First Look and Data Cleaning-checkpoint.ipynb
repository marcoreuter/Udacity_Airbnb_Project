{
 "cells": [
  {
   "cell_type": "markdown",
   "id": "bebda431",
   "metadata": {},
   "source": [
    "# Analysis of Boston/SeattleAirbnb Data\n",
    "\n",
    "This project investigates Airbnb Data from Boston and Seattle.  \n",
    "\n",
    "## Main Questions of the Project:\n",
    " \n",
    "1) Which factors correlate with a high rental price for an object? How well can they predict the rental price?  \n",
    "2) Can the factors that work in Boston predict prices in Seattle? Can the factors that work in Seattle predict prices in Boston?  \n",
    "3) How well do the review scores match the NLTK language processing scores?  \n",
    "\n",
    "## This Notebook: First look and Data Cleaning  "
   ]
  },
  {
   "cell_type": "code",
   "execution_count": 147,
   "id": "19fa04eb",
   "metadata": {},
   "outputs": [],
   "source": [
    "# Load packages\n",
    "import numpy as np\n",
    "import pandas as pd\n",
    "import matplotlib.pyplot as plt\n",
    "from sklearn.linear_model import LinearRegression\n",
    "from sklearn.model_selection import train_test_split\n",
    "from sklearn.metrics import r2_score, mean_squared_error\n",
    "import seaborn as sns\n",
    "import pyarrow\n",
    "%matplotlib inline\n",
    "\n",
    "# Load in the Data from the two .csv files\n",
    "boston_calendar = pd.read_csv('./boston_calendar.csv')\n",
    "boston_listings = pd.read_csv('./boston_listings.csv')\n",
    "boston_reviews = pd.read_csv('./boston_reviews.csv')\n",
    "seattle_calendar = pd.read_csv('./seattle_calendar.csv')\n",
    "seattle_listings = pd.read_csv('./seattle_listings.csv')\n",
    "seattle_reviews = pd.read_csv('./seattle_reviews.csv')"
   ]
  },
  {
   "cell_type": "markdown",
   "id": "4b21dff9",
   "metadata": {},
   "source": [
    "## Data exploration\n",
    "# Calendar.csv\n",
    "First off, we start by exploring the datasets. Start with the calendar data set"
   ]
  },
  {
   "cell_type": "code",
   "execution_count": 148,
   "id": "62102620",
   "metadata": {
    "scrolled": true
   },
   "outputs": [
    {
     "name": "stdout",
     "output_type": "stream",
     "text": [
      "Calendar head\n",
      "\n",
      "    listing_id        date available price\n",
      "0    12147973  2017-09-05         f   NaN\n",
      "1    12147973  2017-09-04         f   NaN\n",
      "2    12147973  2017-09-03         f   NaN\n",
      "3    12147973  2017-09-02         f   NaN\n",
      "4    12147973  2017-09-01         f   NaN \n",
      "\n",
      "\n",
      "Calendar data types \n",
      "\n",
      " listing_id     int64\n",
      "date          object\n",
      "available     object\n",
      "price         object\n",
      "dtype: object\n"
     ]
    }
   ],
   "source": [
    "# Take a look at the head\n",
    "print(\"Calendar head\\n\\n\", boston_calendar.head(),\"\\n\\n\")\n",
    "# Take a look at the data types\n",
    "print(\"Calendar data types \\n\\n\" , boston_calendar.dtypes)"
   ]
  },
  {
   "cell_type": "markdown",
   "id": "7982e382",
   "metadata": {},
   "source": [
    "There are 4 columns, a listings_id, the date, available (true,false) and a price. Checking the data types shows that dates are encoded as strings and not as dates. Further, the prices are also encoded as strings. As a first step, I convert the dates to dates and the prices to numbers."
   ]
  },
  {
   "cell_type": "code",
   "execution_count": 149,
   "id": "5f3db866",
   "metadata": {
    "scrolled": true
   },
   "outputs": [],
   "source": [
    "def calendar_cleaning(calendar):\n",
    "    \n",
    "    \"\"\" Function to clean calendar data.\n",
    "    \n",
    "    Inputs: Calendar data in pandas dataframe with columns listing_id,date, available, price\n",
    "    Outputs: Cleaned calendar data dataframe\n",
    "    \n",
    "    1) Switches dates to datetime format\n",
    "    2) Switches available from \"t\" and \"f\" to actual boolean type\n",
    "    3) Switches price from strings to numbers\n",
    "    \n",
    "    \"\"\"\n",
    "    # 1. Convert the dates from strings to dates\n",
    "    calendar.date=pd.to_datetime(calendar.date)\n",
    "\n",
    "    # 2. Convert available into boolean\n",
    "    calendar.available=calendar.available.replace(to_replace=['f','t'],value=[False,True])\n",
    "\n",
    "    # 3. Convert the prices from strings to numbers.\n",
    "    # 3.1. Remove dollar signs\n",
    "    calendar.price=calendar.price.str.lstrip('$')\n",
    "    # 3.2. Remove , delimiters\n",
    "    calendar.price=calendar.price.str.replace(',','', regex=True)\n",
    "    # 3.3. Convert to Numbers\n",
    "    calendar.price=pd.to_numeric(calendar.price)\n",
    "    return(calendar)\n",
    "\n",
    "boston_calendar=calendar_cleaning(boston_calendar)\n",
    "seattle_calendar=calendar_cleaning(seattle_calendar)"
   ]
  },
  {
   "cell_type": "markdown",
   "id": "e2c08535",
   "metadata": {},
   "source": [
    "Save the cleaned calendar data for later use"
   ]
  },
  {
   "cell_type": "code",
   "execution_count": 151,
   "id": "6755d7fd",
   "metadata": {},
   "outputs": [],
   "source": [
    "boston_calendar.to_parquet('boston_calendar_cleaned',index=False)\n",
    "seattle_calendar.to_parquet('seattle_calendar_cleaned',index=False)"
   ]
  },
  {
   "cell_type": "markdown",
   "id": "0cfc577d",
   "metadata": {},
   "source": [
    "# Listings.csv"
   ]
  },
  {
   "cell_type": "code",
   "execution_count": 152,
   "id": "71e63e4b",
   "metadata": {
    "scrolled": false
   },
   "outputs": [
    {
     "name": "stdout",
     "output_type": "stream",
     "text": [
      "Listings head\n",
      "\n",
      "          id                            listing_url       scrape_id  \\\n",
      "0  12147973  https://www.airbnb.com/rooms/12147973  20160906204935   \n",
      "1   3075044   https://www.airbnb.com/rooms/3075044  20160906204935   \n",
      "2      6976      https://www.airbnb.com/rooms/6976  20160906204935   \n",
      "3   1436513   https://www.airbnb.com/rooms/1436513  20160906204935   \n",
      "4   7651065   https://www.airbnb.com/rooms/7651065  20160906204935   \n",
      "\n",
      "  last_scraped                                           name  \\\n",
      "0   2016-09-07                     Sunny Bungalow in the City   \n",
      "1   2016-09-07              Charming room in pet friendly apt   \n",
      "2   2016-09-07               Mexican Folk Art Haven in Boston   \n",
      "3   2016-09-07  Spacious Sunny Bedroom Suite in Historic Home   \n",
      "4   2016-09-07                            Come Home to Boston   \n",
      "\n",
      "                                             summary  \\\n",
      "0  Cozy, sunny, family home.  Master bedroom high...   \n",
      "1  Charming and quiet room in a second floor 1910...   \n",
      "2  Come stay with a friendly, middle-aged guy in ...   \n",
      "3  Come experience the comforts of home away from...   \n",
      "4  My comfy, clean and relaxing home is one block...   \n",
      "\n",
      "                                               space  \\\n",
      "0  The house has an open and cozy feel at the sam...   \n",
      "1  Small but cozy and quite room with a full size...   \n",
      "2  Come stay with a friendly, middle-aged guy in ...   \n",
      "3  Most places you find in Boston are small howev...   \n",
      "4  Clean, attractive, private room, one block fro...   \n",
      "\n",
      "                                         description experiences_offered  \\\n",
      "0  Cozy, sunny, family home.  Master bedroom high...                none   \n",
      "1  Charming and quiet room in a second floor 1910...                none   \n",
      "2  Come stay with a friendly, middle-aged guy in ...                none   \n",
      "3  Come experience the comforts of home away from...                none   \n",
      "4  My comfy, clean and relaxing home is one block...                none   \n",
      "\n",
      "                               neighborhood_overview  ... review_scores_value  \\\n",
      "0  Roslindale is quiet, convenient and friendly. ...  ...                 NaN   \n",
      "1  The room is in Roslindale, a diverse and prima...  ...                 9.0   \n",
      "2  The LOCATION: Roslindale is a safe and diverse...  ...                10.0   \n",
      "3  Roslindale is a lovely little neighborhood loc...  ...                10.0   \n",
      "4  I love the proximity to downtown, the neighbor...  ...                10.0   \n",
      "\n",
      "  requires_license license jurisdiction_names instant_bookable  \\\n",
      "0                f     NaN                NaN                f   \n",
      "1                f     NaN                NaN                t   \n",
      "2                f     NaN                NaN                f   \n",
      "3                f     NaN                NaN                f   \n",
      "4                f     NaN                NaN                f   \n",
      "\n",
      "  cancellation_policy require_guest_profile_picture  \\\n",
      "0            moderate                             f   \n",
      "1            moderate                             f   \n",
      "2            moderate                             t   \n",
      "3            moderate                             f   \n",
      "4            flexible                             f   \n",
      "\n",
      "  require_guest_phone_verification calculated_host_listings_count  \\\n",
      "0                                f                              1   \n",
      "1                                f                              1   \n",
      "2                                f                              1   \n",
      "3                                f                              1   \n",
      "4                                f                              1   \n",
      "\n",
      "   reviews_per_month  \n",
      "0                NaN  \n",
      "1               1.30  \n",
      "2               0.47  \n",
      "3               1.00  \n",
      "4               2.25  \n",
      "\n",
      "[5 rows x 95 columns] \n",
      "\n",
      "\n",
      "Listings data types \n",
      "\n",
      " id                                    int64\n",
      "listing_url                          object\n",
      "scrape_id                             int64\n",
      "last_scraped                         object\n",
      "name                                 object\n",
      "                                     ...   \n",
      "cancellation_policy                  object\n",
      "require_guest_profile_picture        object\n",
      "require_guest_phone_verification     object\n",
      "calculated_host_listings_count        int64\n",
      "reviews_per_month                   float64\n",
      "Length: 95, dtype: object\n"
     ]
    }
   ],
   "source": [
    "# Take a look at the head\n",
    "print(\"Listings head\\n\\n\", boston_listings.head(),\"\\n\\n\")\n",
    "# Take a look at the data types\n",
    "print(\"Listings data types \\n\\n\" , boston_listings.dtypes)"
   ]
  },
  {
   "cell_type": "markdown",
   "id": "0ba839ee",
   "metadata": {},
   "source": [
    "Listings includes a large number of columns. I will select a subset of columns that I believe to be relevant to address the questions. I decided to drop most text based columns, as they would require analysis using some sort of text processing to be useful. For example, trying to analyze the description of an appartment to infer the tone or something like that."
   ]
  },
  {
   "cell_type": "code",
   "execution_count": 153,
   "id": "be8053a2",
   "metadata": {
    "scrolled": true
   },
   "outputs": [],
   "source": [
    "cols=['id','host_response_time','host_response_rate','host_acceptance_rate','host_is_superhost','host_has_profile_pic','host_identity_verified','neighbourhood_cleansed','property_type','room_type','accommodates','bathrooms','bedrooms','beds','bed_type','price','security_deposit','cleaning_fee','guests_included','extra_people','number_of_reviews','first_review','last_review','review_scores_rating','review_scores_accuracy','review_scores_cleanliness','review_scores_checkin','review_scores_communication','review_scores_location','review_scores_value','instant_bookable','cancellation_policy','require_guest_profile_picture','require_guest_phone_verification','reviews_per_month'\n",
    "]\n",
    "boston_listings=boston_listings[cols]\n",
    "seattle_listings=seattle_listings[cols]"
   ]
  },
  {
   "cell_type": "markdown",
   "id": "a17a217c",
   "metadata": {},
   "source": [
    "Now I turn to addressing the data types of the listings_sub dataframe"
   ]
  },
  {
   "cell_type": "code",
   "execution_count": 154,
   "id": "906a7cec",
   "metadata": {
    "scrolled": false
   },
   "outputs": [
    {
     "name": "stdout",
     "output_type": "stream",
     "text": [
      "id                                       int64\n",
      "host_response_rate                     float64\n",
      "host_acceptance_rate                   float64\n",
      "accommodates                             int64\n",
      "bathrooms                              float64\n",
      "                                        ...   \n",
      "bed_type_Pull-out Sofa                   uint8\n",
      "bed_type_Real Bed                        uint8\n",
      "cancellation_policy_moderate             uint8\n",
      "cancellation_policy_strict               uint8\n",
      "cancellation_policy_super_strict_30      uint8\n",
      "Length: 69, dtype: object\n"
     ]
    }
   ],
   "source": [
    "print(listings_sub.dtypes)"
   ]
  },
  {
   "cell_type": "markdown",
   "id": "f802d9fe",
   "metadata": {},
   "source": [
    "### Comments about the data types:\n",
    "1) host response rate is object, should be float  \n",
    "2) host acceptance rate is object, should be float  \n",
    "3) Host is superhost needs to be bool  \n",
    "4) Host has profile pic needs to be bool  \n",
    "5) Host identity verified needs to be bool  \n",
    "6) Price is string needs to be float  \n",
    "7) Security deposit is string, needs to be float  \n",
    "8) Cleaning fee is string, needs to be float  \n",
    "9) Extra people is string, needs to be float  \n",
    "10) First review is object, needs to be date  \n",
    "11) Last review is object, needs to be date  \n",
    "12) Instant bookable is string, needs to be bool  \n",
    "13) require guest profile picture is string, needs to be bool  \n",
    "14) require guest phone verification is string, needs to be bool"
   ]
  },
  {
   "cell_type": "code",
   "execution_count": 155,
   "id": "c100494f",
   "metadata": {},
   "outputs": [],
   "source": [
    "def listings_cleaning(listings_sub):\n",
    "    \n",
    "    \"\"\" Function to clean the listings data\n",
    "    \n",
    "    INPUT:\n",
    "    listings dataframe\n",
    "    \n",
    "    OUTPUT:\n",
    "    cleanded listings dataframe\n",
    "    \n",
    "    Function will take care to switch data types appropriately:\n",
    "    1) Switch host response rate to a number\n",
    "    2) Switch host acceptance rate to a number\n",
    "    3) Switch host is superhost to boolean\n",
    "    4) Switch host has profile picture to boolean\n",
    "    5) Switch host identity verified to boolean\n",
    "    6) Switch price to a number\n",
    "    7) Switch security deposit to a number\n",
    "    8) Switch cleaning fee to a number\n",
    "    9) Switch extra people fee to a number\n",
    "    10) Switch last review to a datetime\n",
    "    11) Switch first review to a datetime\n",
    "    12) Switch instant bookable to boolean\n",
    "    13) Switch require guest profile picture to boolean\n",
    "    14) Switch require guest phone verification to boolean\n",
    "    \n",
    "    Function will deal with NaN values (numericals):\n",
    "    1) Host response rate/acceptance sets NaN to 0  \n",
    "    2) Extra people/Security deposit/cleaning fee NaN's are set to 0  \n",
    "    3) Review per month NaN's are set to 0  \n",
    "    4) Other NaN's are set to the average\n",
    "    \n",
    "    Function will deal with NaN values (categoricals):\n",
    "    1) Use the methods from the lessons (i.e. making dummies) to fill the NaN's in the categorical variables\n",
    "    \n",
    "    \"\"\"\n",
    "    \n",
    "    \n",
    "    ##### Converting the data types as needed #####\n",
    "    # 1) host response rate is object, should be float\n",
    "    # 1.1) Remove % signs\n",
    "    listings_sub.host_response_rate=listings_sub.host_response_rate.str.replace('%','', regex=True)\n",
    "    listings_sub.host_response_rate=pd.to_numeric(listings_sub.host_response_rate)\n",
    "    # 2) host acceptance rate is object, should be float\n",
    "    listings_sub.host_acceptance_rate=listings_sub.host_acceptance_rate.str.replace('%','', regex=True)\n",
    "    listings_sub.host_acceptance_rate=pd.to_numeric(listings_sub.host_acceptance_rate)\n",
    "    # 3) Host is superhost needs to be bool\n",
    "    listings_sub.host_is_superhost=listings_sub.host_is_superhost.replace(to_replace=['f','t'],value=[False,True])\n",
    "    # 4) Host has profile pic needs to be bool \n",
    "    listings_sub.host_has_profile_pic=listings_sub.host_has_profile_pic.replace(to_replace=['f','t'],value=[False,True])\n",
    "    # 5) Host identity verified needs to be bool\n",
    "    listings_sub.host_identity_verified=listings_sub.host_identity_verified.replace(to_replace=['f','t'],value=[False,True])\n",
    "    # 6) Price is string needs to be float \n",
    "    # 6.1) Remove dollar signs\n",
    "    listings_sub.price=listings_sub.price.str.lstrip('$')\n",
    "    # 6.2) Remove , delimiters\n",
    "    listings_sub.price=listings_sub.price.str.replace(',','', regex=True)\n",
    "    # 6.3) Convert to Numbers\n",
    "    listings_sub.price=pd.to_numeric(listings_sub.price)\n",
    "    # 7) Security deposit is string, needs to be float\n",
    "    # 7.1) Remove dollar signs\n",
    "    listings_sub.security_deposit=listings_sub.security_deposit.str.lstrip('$')\n",
    "    # 7.2) Remove , delimiters\n",
    "    listings_sub.security_deposit=listings_sub.security_deposit.str.replace(',','', regex=True)\n",
    "    # 7.3) Convert to Numbers\n",
    "    listings_sub.security_deposit=pd.to_numeric(listings_sub.security_deposit)\n",
    "    # 8) Cleaning fee is string, needs to be float  \n",
    "    # 8.1) Remove dollar signs\n",
    "    listings_sub.cleaning_fee=listings_sub.cleaning_fee.str.lstrip('$')\n",
    "    # 8.2) Remove , delimiters\n",
    "    listings_sub.cleaning_fee=listings_sub.cleaning_fee.str.replace(',','', regex=True)\n",
    "    # 8.3) Convert to Numbers\n",
    "    listings_sub.cleaning_fee=pd.to_numeric(listings_sub.cleaning_fee)\n",
    "    # 9) Extra people is string, needs to be float\n",
    "    # 9.1) Remove dollar signs\n",
    "    listings_sub.extra_people=listings_sub.extra_people.str.lstrip('$')\n",
    "    # 9.2) Remove , delimiters\n",
    "    listings_sub.extra_people=listings_sub.extra_people.str.replace(',','', regex=True)\n",
    "    # 9.3) Convert to Numbers\n",
    "    listings_sub.extra_people=pd.to_numeric(listings_sub.extra_people)\n",
    "    # 10) First review is object, needs to be date\n",
    "    listings_sub.first_review=pd.to_datetime(listings_sub.first_review)\n",
    "    # 11) Last review is object, needs to be date  \n",
    "    listings_sub.last_review=pd.to_datetime(listings_sub.last_review)\n",
    "    # 12) Instant bookable is string, needs to be bool\n",
    "    listings_sub.instant_bookable=listings_sub.instant_bookable.replace(to_replace=['f','t'],value=[False,True])\n",
    "    # 13) require guest profile picture is string, needs to be bool \n",
    "    listings_sub.require_guest_profile_picture=listings_sub.require_guest_profile_picture.replace(to_replace=['f','t'],value=[False,True])\n",
    "    # 14) require guest phone verification is string, needs to be bool\n",
    "    listings_sub.require_guest_phone_verification=listings_sub.require_guest_phone_verification.replace(to_replace=['f','t'],value=[False,True])\n",
    "    \n",
    "    ##### Converting the data types as needed #####\n",
    "\n",
    "    ##### Addressing NaN's #####\n",
    "    # Next, I will address missing values in the dataset. First, focus on the numeric columns of the dataset.\n",
    "    listings_num= listings_sub.select_dtypes(include=np.number).copy()    \n",
    "    # 1) Host response rate/acceptance sets NaN to 0  \n",
    "    # 2) Extra people/Security deposit/cleaning fee NaN's are set to 0  \n",
    "    # 3) Review per month NaN's are set to 0  \n",
    "    listings_num.loc[:,['host_response_rate','host_acceptance_rate','security_deposit','cleaning_fee','reviews_per_month']]=listings_num.loc[:,['host_response_rate','host_acceptance_rate','security_deposit','cleaning_fee','reviews_per_month']].fillna(0)\n",
    "\n",
    "    # 4) Other NaN's are set to the average\n",
    "    fill_mean = lambda col: col.fillna(col.mean())\n",
    "\n",
    "    try:\n",
    "        listings_num=listings_num.apply(fill_mean, axis=0)\n",
    "    except:\n",
    "        print('That broke...')\n",
    "        \n",
    "    # Select the categorial variables\n",
    "    listings_cat= listings_sub.select_dtypes(include='object').copy()\n",
    "    # Use the methods from the lessons to fill the NaN's in the categorical variables\n",
    "    for var in listings_cat.columns:\n",
    "        # for each cat add dummy var, drop original column\n",
    "        listings_cat = pd.concat([listings_cat.drop(var, axis=1), pd.get_dummies(listings_cat[var], prefix=var, prefix_sep='_', drop_first=True)], axis=1)\n",
    "\n",
    "    # merge the dataframes\n",
    "    listings_use = pd.concat([listings_num,listings_cat],axis=1)\n",
    "\n",
    "    ##### Addressing NaN's #####\n",
    "    \n",
    "    # return the cleaned dataframe\n",
    "    return listings_use\n",
    "\n",
    "boston_listings = listings_cleaning(boston_listings)\n",
    "seattle_listings = listings_cleaning(seattle_listings)"
   ]
  },
  {
   "cell_type": "markdown",
   "id": "cbd03f75",
   "metadata": {},
   "source": [
    "Save the cleaned listings data for later use"
   ]
  },
  {
   "cell_type": "code",
   "execution_count": 156,
   "id": "7434f040",
   "metadata": {},
   "outputs": [],
   "source": [
    "# save the cleaned data frame for later use\n",
    "boston_listings.to_parquet('boston_listings_cleaned',index=False)\n",
    "seattle_listings.to_parquet('seattle_listings_cleaned',index=False)"
   ]
  },
  {
   "cell_type": "markdown",
   "id": "207ca11e",
   "metadata": {},
   "source": [
    "# Reviews.csv"
   ]
  },
  {
   "cell_type": "code",
   "execution_count": 157,
   "id": "afd83381",
   "metadata": {},
   "outputs": [],
   "source": [
    "# Import nltk sentiment analysis\n",
    "from nltk.sentiment import SentimentIntensityAnalyzer\n",
    "sia = SentimentIntensityAnalyzer()"
   ]
  },
  {
   "cell_type": "code",
   "execution_count": 158,
   "id": "27423b11",
   "metadata": {},
   "outputs": [],
   "source": [
    "def review_analysis(reviews):\n",
    "    \"\"\"\n",
    "    INPUT:\n",
    "    reviews dataframe\n",
    "    \n",
    "    OUTPUT:\n",
    "    analyzed review dataframe\n",
    "    \n",
    "    Function will take in written review comments, analyze them using the NLTK library and return a dataframe with the\n",
    "    sentiment analysis scores\n",
    "    \n",
    "    \"\"\"\n",
    "    # Drop reviews that do not include a comment that can be analyzed\n",
    "    reviews.dropna(subset=['comments'],inplace=True)\n",
    "    # Create data frame to store results\n",
    "    result=pd.DataFrame(columns=['listing_id','neg','neu','pos','compound'])\n",
    "    for i in range(0,reviews.shape[0]):\n",
    "        try:\n",
    "            # Run sentiment analysis\n",
    "            analysis = sia.polarity_scores(reviews.iloc[i,5])\n",
    "            analysis['listing_id']=reviews.iloc[i,0]\n",
    "            # Store result\n",
    "            result = result.append(analysis,ignore_index=True)\n",
    "        except:\n",
    "            print(reviews.comments[i])\n",
    "    return result\n",
    "\n",
    "boston_reviews=review_analysis(boston_reviews)\n",
    "seattle_reviews=review_analysis(seattle_reviews)"
   ]
  },
  {
   "cell_type": "code",
   "execution_count": 159,
   "id": "5be049ea",
   "metadata": {},
   "outputs": [],
   "source": [
    "# save the cleaned data frame for later us\n",
    "boston_reviews.to_parquet('boston_reviews_cleaned',index=False)\n",
    "seattle_reviews.to_parquet('seattle_reviews_cleaned',index=False)"
   ]
  }
 ],
 "metadata": {
  "kernelspec": {
   "display_name": "Python 3",
   "language": "python",
   "name": "python3"
  },
  "language_info": {
   "codemirror_mode": {
    "name": "ipython",
    "version": 3
   },
   "file_extension": ".py",
   "mimetype": "text/x-python",
   "name": "python",
   "nbconvert_exporter": "python",
   "pygments_lexer": "ipython3",
   "version": "3.8.8"
  }
 },
 "nbformat": 4,
 "nbformat_minor": 5
}
